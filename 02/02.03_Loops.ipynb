{
 "cells": [
  {
   "cell_type": "code",
   "execution_count": 1,
   "metadata": {},
   "outputs": [
    {
     "name": "stdout",
     "output_type": "stream",
     "text": [
      "1\n",
      "2\n",
      "3\n",
      "4\n",
      "5\n",
      "6\n",
      "7\n",
      "8\n",
      "9\n",
      "10\n"
     ]
    }
   ],
   "source": [
    "# loop is a iterator\n",
    "\n",
    "# for loop\n",
    "# while loop\n",
    "\n",
    "# while loop is used when we don't know how many times loop will run \n",
    "# until and unless condition is true, loop will run\n",
    "\n",
    "i=1\n",
    "while i<=10:\n",
    "    print(i)\n",
    "    i+=1    \n"
   ]
  },
  {
   "cell_type": "code",
   "execution_count": 2,
   "metadata": {},
   "outputs": [
    {
     "name": "stdout",
     "output_type": "stream",
     "text": [
      "2\n",
      "4\n",
      "6\n",
      "8\n",
      "10\n",
      "12\n",
      "14\n",
      "16\n",
      "18\n",
      "20\n"
     ]
    }
   ],
   "source": [
    "# first 10 even numbers using while loop\n",
    "i=1 \n",
    "while i<=20:\n",
    "    if i%2==0:\n",
    "        print(i)\n",
    "    i+=1    \n"
   ]
  },
  {
   "cell_type": "code",
   "execution_count": 4,
   "metadata": {},
   "outputs": [
    {
     "name": "stdout",
     "output_type": "stream",
     "text": [
      "1\n",
      "2\n",
      "3\n",
      "4\n",
      "6\n",
      "7\n",
      "8\n",
      "9\n",
      "10\n",
      "--------\n",
      "1\n",
      "2\n",
      "3\n",
      "4\n"
     ]
    }
   ],
   "source": [
    "# continue and break\n",
    "# continue is used to skip the current iteration and move to next iteration\n",
    "# break is used to exit the loop\n",
    "\n",
    "i=1\n",
    "while i<=10:\n",
    "    if i==5:\n",
    "        i+=1\n",
    "        continue\n",
    "    print(i)\n",
    "    i+=1\n",
    "print('--------')\n",
    "j=1\n",
    "while j<=10:\n",
    "    if j==5:\n",
    "        break\n",
    "    print(j)\n",
    "    j+=1"
   ]
  },
  {
   "cell_type": "code",
   "execution_count": 5,
   "metadata": {},
   "outputs": [
    {
     "name": "stdout",
     "output_type": "stream",
     "text": [
      "1\n",
      "2\n",
      "3\n",
      "4\n",
      "6\n",
      "7\n",
      "8\n",
      "9\n",
      "10\n",
      "Loop executed successfully\n",
      "--------\n"
     ]
    }
   ],
   "source": [
    "i=1\n",
    "while i<=10:\n",
    "    if i==5:\n",
    "        i+=1\n",
    "        continue\n",
    "    print(i)\n",
    "    i+=1\n",
    "else: # the else is of the if condition which is inside the while loop\n",
    "    print('Loop executed successfully')"
   ]
  },
  {
   "cell_type": "code",
   "execution_count": 6,
   "metadata": {},
   "outputs": [
    {
     "name": "stdout",
     "output_type": "stream",
     "text": [
      "1\n",
      "2\n",
      "3\n",
      "4\n"
     ]
    }
   ],
   "source": [
    "j=1\n",
    "while j<=10:\n",
    "    if j==5:\n",
    "        break\n",
    "    print(j)\n",
    "    j+=1\n",
    "else:\n",
    "    print('Loop executed successfully')"
   ]
  },
  {
   "cell_type": "code",
   "execution_count": 7,
   "metadata": {},
   "outputs": [
    {
     "name": "stdout",
     "output_type": "stream",
     "text": [
      "apple\n",
      "banana\n",
      "grapes\n"
     ]
    }
   ],
   "source": [
    "# for loop\n",
    "\n",
    "fruts=['apple','banana','mango','grapes']\n",
    "\n",
    "for i in fruts:\n",
    "    if i=='mango':\n",
    "        continue\n",
    "    print(i)    "
   ]
  },
  {
   "cell_type": "code",
   "execution_count": 8,
   "metadata": {},
   "outputs": [
    {
     "name": "stdout",
     "output_type": "stream",
     "text": [
      "0\n",
      "1\n",
      "2\n",
      "3\n",
      "4\n",
      "5\n",
      "Loop executed successfully\n"
     ]
    }
   ],
   "source": [
    "for x in range(6): # 0 to 5\n",
    "    print(x)\n",
    "else:\n",
    "    print('Loop executed successfully')"
   ]
  },
  {
   "cell_type": "code",
   "execution_count": null,
   "metadata": {},
   "outputs": [],
   "source": [
    "# for loop syntax\n",
    "# for {variable} in {iterable}:\n",
    "for i in range(5):\n",
    "    print(i)"
   ]
  },
  {
   "cell_type": "code",
   "execution_count": 6,
   "metadata": {},
   "outputs": [
    {
     "name": "stdout",
     "output_type": "stream",
     "text": [
      "['apple', 'banana']\n"
     ]
    }
   ],
   "source": [
    "fruits = ['apple', 'banana', 'cherry']\n",
    "newList = []\n",
    "\n",
    "for fruit in fruits:\n",
    "    if \"a\" in fruit:\n",
    "        newList.append(fruit)\n",
    "print(newList)"
   ]
  },
  {
   "cell_type": "code",
   "execution_count": 8,
   "metadata": {},
   "outputs": [
    {
     "name": "stdout",
     "output_type": "stream",
     "text": [
      "['apple', 'banana']\n"
     ]
    }
   ],
   "source": [
    "fruits = ['apple', 'banana', 'cherry']\n",
    "newList = [fruit for fruit in fruits if \"a\" in fruit] # [{item name} {expression+condition}]\n",
    "print(newList)"
   ]
  },
  {
   "cell_type": "code",
   "execution_count": 10,
   "metadata": {},
   "outputs": [
    {
     "name": "stdout",
     "output_type": "stream",
     "text": [
      "['apple', 'banana', 'cherry', 'kivi', 'mango']\n",
      "['mango', 'kivi', 'cherry', 'banana', 'apple']\n"
     ]
    }
   ],
   "source": [
    "fruits = ['banana', 'kivi', 'mango', 'cherry', 'apple']\n",
    "fruits.sort()\n",
    "print(fruits)\n",
    "fruits.reverse()\n",
    "print(fruits)"
   ]
  },
  {
   "cell_type": "code",
   "execution_count": 9,
   "metadata": {},
   "outputs": [
    {
     "name": "stdout",
     "output_type": "stream",
     "text": [
      "1 1\n",
      "1 2\n",
      "1 3\n",
      "1 4\n",
      "1 5\n",
      "2 1\n",
      "2 2\n",
      "2 3\n",
      "2 4\n",
      "2 5\n",
      "3 1\n",
      "3 2\n",
      "3 3\n",
      "3 4\n",
      "3 5\n",
      "4 1\n",
      "4 2\n",
      "4 3\n",
      "4 4\n",
      "4 5\n",
      "5 1\n",
      "5 2\n",
      "5 3\n",
      "5 4\n",
      "5 5\n"
     ]
    }
   ],
   "source": [
    "# nested loop\n",
    "\n",
    "for i in range(1,6):\n",
    "    for j in range(1,6):\n",
    "        print(i,j)  \n",
    "        "
   ]
  }
 ],
 "metadata": {
  "kernelspec": {
   "display_name": ".venv",
   "language": "python",
   "name": "python3"
  },
  "language_info": {
   "codemirror_mode": {
    "name": "ipython",
    "version": 3
   },
   "file_extension": ".py",
   "mimetype": "text/x-python",
   "name": "python",
   "nbconvert_exporter": "python",
   "pygments_lexer": "ipython3",
   "version": "3.13.1"
  }
 },
 "nbformat": 4,
 "nbformat_minor": 2
}
