{
 "cells": [
  {
   "cell_type": "code",
   "execution_count": 1,
   "metadata": {},
   "outputs": [
    {
     "name": "stdout",
     "output_type": "stream",
     "text": [
      "Name: John, Age: 22\n",
      "Roll: 101\n"
     ]
    }
   ],
   "source": [
    "# inheritance - creating a relationship between classes\n",
    "\n",
    "# parent class\n",
    "\n",
    "class Person:\n",
    "    def __init__(self, name, age):\n",
    "        self.name = name\n",
    "        self.age = age\n",
    "\n",
    "    def show(self):\n",
    "        print(f\"Name: {self.name}, Age: {self.age}\")    \n",
    "\n",
    "# child class\n",
    "\n",
    "class Student(Person):\n",
    "    def __init__(self, name, age, roll):\n",
    "        super().__init__(name, age)\n",
    "        self.roll = roll\n",
    "\n",
    "    def show(self):\n",
    "        super().show()\n",
    "        print(f\"Roll: {self.roll}\")\n",
    "\n",
    "# create an object of the child class\n",
    "\n",
    "s = Student(\"John\", 22, 101)\n",
    "s.show()\n"
   ]
  },
  {
   "cell_type": "code",
   "execution_count": 3,
   "metadata": {},
   "outputs": [
    {
     "name": "stdout",
     "output_type": "stream",
     "text": [
      "Name: John, Age: 22\n"
     ]
    }
   ],
   "source": [
    "# parent class\n",
    "\n",
    "class Person:\n",
    "    def __init__(self, name, age):\n",
    "        self.name = name\n",
    "        self.age = age\n",
    "\n",
    "    def show(self):\n",
    "        print(f\"Name: {self.name}, Age: {self.age}\")    \n",
    "\n",
    "# child class\n",
    "\n",
    "class Student(Person):\n",
    "    pass\n",
    "\n",
    "# create an object of the child class\n",
    "\n",
    "s = Student(\"John\", 22)\n",
    "s.show()\n"
   ]
  },
  {
   "cell_type": "code",
   "execution_count": 5,
   "metadata": {},
   "outputs": [
    {
     "name": "stdout",
     "output_type": "stream",
     "text": [
      "Name: John, Age: 22\n",
      "Roll: 101\n"
     ]
    }
   ],
   "source": [
    "# calling paret class constructor - when in side __init__ of child class it will call parent class __init__ method\n",
    "class Person:\n",
    "    def __init__(self, name, age):\n",
    "        self.name = name\n",
    "        self.age = age\n",
    "\n",
    "    def show(self):\n",
    "        print(f\"Name: {self.name}, Age: {self.age}\")\n",
    "\n",
    "class Student(Person):\n",
    "    def __init__(self, name, age, roll):\n",
    "        # super().__init__(name, age)\n",
    "        Person.__init__(self, name, age) # self is needed to pass as first argument\n",
    "        # or\n",
    "        # self.name = name - rarely used\n",
    "        # self.age = age - rarely used\n",
    "        self.roll = roll\n",
    "\n",
    "    def show(self):\n",
    "        super().show()\n",
    "        print(f\"Roll: {self.roll}\")\n",
    "\n",
    "s = Student(\"John\", 22, 101) \n",
    "s.show() # show method of child class will be called and it will call parent class show method using super() method and print the show method output of parent class and then print the roll number of the student\n"
   ]
  },
  {
   "cell_type": "code",
   "execution_count": null,
   "metadata": {},
   "outputs": [],
   "source": [
    "# polymorphism - method having same name in parent and child class\n",
    "\n",
    "class Person:\n",
    "    def __init__(self, name, age):\n",
    "        self.name = name\n",
    "        self.age = age\n",
    "\n",
    "    def show(self):\n",
    "        print(f\"Name: {self.name}, Age: {self.age}\")    \n",
    "\n",
    "class Student(Person):\n",
    "    def __init__(self, name, age, roll):\n",
    "        super().__init__(name, age)\n",
    "        self.roll = roll\n",
    "\n",
    "    def show(self):\n",
    "        super().show()\n",
    "        print(f\"Roll: {self.roll}\") \n",
    "\n",
    "class Teacher(Person):\n",
    "    def __init__(self, name, age, salary):\n",
    "        super().__init__(name, age)\n",
    "        self.salary = salary\n",
    "\n",
    "    def show(self):\n",
    "        super().show()\n",
    "        print(f\"Salary: {self.salary}\")\n",
    "\n",
    "# create objects of the child classes\n",
    "\n",
    "s = Student(\"John\", 22, 101)\n",
    "t = Teacher(\"Mr. Smith\", 35, 50000)\n"
   ]
  },
  {
   "cell_type": "code",
   "execution_count": 7,
   "metadata": {},
   "outputs": [
    {
     "name": "stdout",
     "output_type": "stream",
     "text": [
      "Dog Barking\n",
      "Animal Speaking\n",
      "Kitten Running\n",
      "Animal Speaking\n"
     ]
    }
   ],
   "source": [
    "# one child and one parent means single level inheritance\n",
    "\n",
    "# two child and one parent means multi level inheritance\n",
    "\n",
    "class Animal:\n",
    "    def speak(self):\n",
    "        print(\"Animal Speaking\")\n",
    "\n",
    "class Dog(Animal):\n",
    "    def bark(self):\n",
    "        print(\"Dog Barking\")\n",
    "\n",
    "a = Dog()\n",
    "a.bark()\n",
    "a.speak()\n",
    "\n",
    "# multiple inheritance - one child and two parents\n",
    "\n",
    "class Cat:\n",
    "    def speak(self):\n",
    "        print(\"Cat Speaking\")\n",
    "\n",
    "\n",
    "class Kitten(Animal, Cat):\n",
    "    def run(self):\n",
    "        print(\"Kitten Running\")\n",
    "    \n",
    "k = Kitten()\n",
    "k.run()\n",
    "k.speak()\n",
    "# k.bark() # bark method is not available in the Kitten class but it is available in the Animal class so it will call the Animal class bark method\n"
   ]
  },
  {
   "cell_type": "code",
   "execution_count": 12,
   "metadata": {},
   "outputs": [
    {
     "name": "stdout",
     "output_type": "stream",
     "text": [
      "Class A Constructor\n",
      "Class B Constructor\n",
      "Class C Constructor\n"
     ]
    }
   ],
   "source": [
    "# multilevel inheritance - one child and one parent and one grand parent\n",
    "\n",
    "class A:\n",
    "    def __init__(self):\n",
    "        print(\"Class A Constructor\")    \n",
    "\n",
    "class B(A):\n",
    "    def __init__(self):\n",
    "        super().__init__()\n",
    "        print(\"Class B Constructor\")    \n",
    "\n",
    "class C(B):\n",
    "    def __init__(self):\n",
    "        super().__init__()\n",
    "        print(\"Class C Constructor\")    \n",
    "\n",
    "c = C()\n"
   ]
  },
  {
   "cell_type": "code",
   "execution_count": 9,
   "metadata": {},
   "outputs": [
    {
     "name": "stdout",
     "output_type": "stream",
     "text": [
      "A\n",
      "B\n",
      "C\n"
     ]
    }
   ],
   "source": [
    "# multiple inheritance - two child and one parent\n",
    "\n",
    "class A:\n",
    "    def show(self):\n",
    "        print(\"A\")\n",
    "\n",
    "class B(A):\n",
    "    def show(self):\n",
    "        print(\"B\")\n",
    "\n",
    "class C(A):\n",
    "    def show(self):\n",
    "        print(\"C\")\n",
    "\n",
    "a = A()\n",
    "b = B()\n",
    "c = C()\n",
    "\n",
    "a.show()\n",
    "b.show()\n",
    "c.show()\n"
   ]
  },
  {
   "cell_type": "code",
   "execution_count": 15,
   "metadata": {},
   "outputs": [
    {
     "name": "stdout",
     "output_type": "stream",
     "text": [
      "A\n"
     ]
    }
   ],
   "source": [
    "# multiple inheritance - one child and two parent\n",
    "\n",
    "class A:\n",
    "    def show(self):\n",
    "        print(\"A\")\n",
    "\n",
    "class B:\n",
    "    def show(self):\n",
    "        print(\"B\")\n",
    "\n",
    "class C(A, B):\n",
    "    pass    \n",
    "\n",
    "c = C()\n",
    "c.show() # it will call the show method of class A because class A is the first parent class of class C\n"
   ]
  },
  {
   "cell_type": "code",
   "execution_count": 16,
   "metadata": {},
   "outputs": [
    {
     "name": "stdout",
     "output_type": "stream",
     "text": [
      "B\n"
     ]
    }
   ],
   "source": [
    "# multiple inheritance - one child and two parent\n",
    "\n",
    "class A:\n",
    "    def show(self):\n",
    "        print(\"A\")\n",
    "\n",
    "class B:\n",
    "    def show(self):\n",
    "        print(\"B\")\n",
    "\n",
    "class C(B, A):\n",
    "    pass    \n",
    "\n",
    "c = C()\n",
    "c.show() # it will call the show method of class B because class B is the first parent class of class C\n"
   ]
  },
  {
   "cell_type": "code",
   "execution_count": 17,
   "metadata": {},
   "outputs": [
    {
     "name": "stdout",
     "output_type": "stream",
     "text": [
      "A\n",
      "B\n"
     ]
    }
   ],
   "source": [
    "# multiple inheritance - one child and two parent\n",
    "\n",
    "class A:\n",
    "    def show(self):\n",
    "        print(\"A\")\n",
    "\n",
    "class B:\n",
    "    def show(self):\n",
    "        print(\"B\")\n",
    "\n",
    "# to show both the show methods of class A and class\n",
    "class C(A, B):\n",
    "    def show(self):\n",
    "        A.show(self)\n",
    "        B.show(self)\n",
    "\n",
    "c = C()\n",
    "c.show() # it will call the show method of class A and class B\n"
   ]
  },
  {
   "cell_type": "code",
   "execution_count": 21,
   "metadata": {},
   "outputs": [
    {
     "name": "stdout",
     "output_type": "stream",
     "text": [
      "Outer class object creation\n",
      "Inner class object creation\n"
     ]
    },
    {
     "ename": "NameError",
     "evalue": "name 'self' is not defined",
     "output_type": "error",
     "traceback": [
      "\u001b[1;31m---------------------------------------------------------------------------\u001b[0m",
      "\u001b[1;31mNameError\u001b[0m                                 Traceback (most recent call last)",
      "Cell \u001b[1;32mIn[21], line 20\u001b[0m\n\u001b[0;32m     17\u001b[0m o \u001b[38;5;241m=\u001b[39m Outer()\n\u001b[0;32m     18\u001b[0m i \u001b[38;5;241m=\u001b[39m o\u001b[38;5;241m.\u001b[39mInner() \u001b[38;5;66;03m# creating object of inner class using outer class object\u001b[39;00m\n\u001b[1;32m---> 20\u001b[0m o\u001b[38;5;241m.\u001b[39mInner\u001b[38;5;241m.\u001b[39mdisplay(\u001b[38;5;28;43mself\u001b[39;49m) \u001b[38;5;66;03m# calling inner class method using outer class object\u001b[39;00m\n",
      "\u001b[1;31mNameError\u001b[0m: name 'self' is not defined"
     ]
    }
   ],
   "source": [
    "# inner class - class inside another class\n",
    "\n",
    "class Outer: # outer class resoponisble for creating object of inner class\n",
    "    def __init__(self):\n",
    "        print(\"Outer class object creation\")\n",
    "    \n",
    "    def show(self):\n",
    "        print(\"Outer class method\")\n",
    "    \n",
    "    class Inner:\n",
    "        def __init__(self):\n",
    "            print(\"Inner class object creation\")\n",
    "\n",
    "        def display(self):\n",
    "            print(\"Inner class method\")\n",
    "\n",
    "o = Outer()\n",
    "i = o.Inner() # creating object of inner class using outer class object\n",
    "\n",
    "o.Inner.display(self) # calling inner class method using outer class object"
   ]
  }
 ],
 "metadata": {
  "kernelspec": {
   "display_name": ".venv",
   "language": "python",
   "name": "python3"
  },
  "language_info": {
   "codemirror_mode": {
    "name": "ipython",
    "version": 3
   },
   "file_extension": ".py",
   "mimetype": "text/x-python",
   "name": "python",
   "nbconvert_exporter": "python",
   "pygments_lexer": "ipython3",
   "version": "3.13.1"
  }
 },
 "nbformat": 4,
 "nbformat_minor": 2
}
