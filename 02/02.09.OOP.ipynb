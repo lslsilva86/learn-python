{
 "cells": [
  {
   "cell_type": "code",
   "execution_count": 11,
   "metadata": {},
   "outputs": [
    {
     "data": {
      "text/plain": [
       "'<__main__.Car object at 0x000002D113E0D550>'"
      ]
     },
     "execution_count": 11,
     "metadata": {},
     "output_type": "execute_result"
    }
   ],
   "source": [
    "class Car:\n",
    "    def __init__(self, model, color, year, speed=0):\n",
    "        self.model = model\n",
    "        self.color = color\n",
    "        self.year = year\n",
    "        self.speed = speed\n",
    "\n",
    "    def speed_up(self):\n",
    "        self.speed += 5\n",
    "\n",
    "    def speed_down(self):\n",
    "        self.speed -= 5\n",
    "\n",
    "    # def __str__(self):\n",
    "    #     return f\"Model: {self.model}, Color: {self.color}, Year: {self.year}, Speed: {self.speed}\"\n",
    "    \n",
    "car1 = Car(\"Toyota\", \"Red\", 2019)\n",
    "car1.__str__()\n",
    "# print(car1)"
   ]
  },
  {
   "cell_type": "code",
   "execution_count": 1,
   "metadata": {},
   "outputs": [
    {
     "name": "stdout",
     "output_type": "stream",
     "text": [
      "Model: Toyota, Color: Red, Year: 2019, Speed: 0\n",
      "1\n",
      "Model: Toyota, Color: Red, Year: 2019, Speed: 0\n",
      "2\n"
     ]
    }
   ],
   "source": [
    "# static variables\n",
    "\n",
    "class Car:\n",
    "    Count = 0   # static variable\n",
    "    def __init__(self, model, color, year, speed=0):\n",
    "        self.model = model\n",
    "        self.color = color\n",
    "        self.year = year\n",
    "        self.speed = speed\n",
    "        Car.Count += 1 # Car.Count = Car. is the trick ot self.Count\n",
    "\n",
    "    def speed_up(self):\n",
    "        self.speed += 5 \n",
    "\n",
    "    def speed_down(self):\n",
    "        self.speed -= 5\n",
    "\n",
    "    def __str__(self):\n",
    "        return f\"Model: {self.model}, Color: {self.color}, Year: {self.year}, Speed: {self.speed}\"\n",
    "    \n",
    "car1 = Car(\"Toyota\", \"Red\", 2019)\n",
    "print(car1)\n",
    "print(Car.Count)\n",
    "\n",
    "car2 = Car(\"Toyota\", \"Red\", 2019)\n",
    "print(car2)\n",
    "print(Car.Count)"
   ]
  },
  {
   "cell_type": "code",
   "execution_count": 4,
   "metadata": {},
   "outputs": [
    {
     "name": "stdout",
     "output_type": "stream",
     "text": [
      "Name: John None, Salary: None\n",
      "1\n",
      "Name: Jane Doe, Salary: 50000\n",
      "2\n"
     ]
    }
   ],
   "source": [
    "# create a class Employee with the following attributes fname, lname, age, gender, position, salary where fname and age are mandatory and the rest are optional. Create a static variable Count to keep track of the number of employees created. Create a method __str__ to return the employee's name and salary. and funcationlities to this class to change salary and age\n",
    "\n",
    "class Employee:\n",
    "    Count = 0\n",
    "    def __init__(self, fname, age, lname=\"\", gender=\"\", position=\"\", salary=0):\n",
    "        self.fname = fname\n",
    "        self.age = age\n",
    "        self.lname = lname  \n",
    "        self.gender = gender\n",
    "        self.position = position\n",
    "        self.salary = salary\n",
    "        Employee.Count += 1\n",
    "\n",
    "    def change_salary(self, salary):\n",
    "        self.salary = salary\n",
    "    \n",
    "    def change_age(self, age):\n",
    "        self.age = age\n",
    "    \n",
    "    def __str__(self):\n",
    "        return f\"Name: {self.fname} {self.lname}, Salary: {self.salary}\"\n",
    "\n",
    "emp1 = Employee(\"John\", 25)\n",
    "print(emp1)\n",
    "print(Employee.Count)\n",
    "\n",
    "emp2 = Employee(\"Jane\", 30, \"Doe\", \"F\", \"Manager\", 50000)\n",
    "print(emp2)\n",
    "print(Employee.Count)\n"
   ]
  },
  {
   "cell_type": "code",
   "execution_count": 1,
   "metadata": {},
   "outputs": [
    {
     "name": "stdout",
     "output_type": "stream",
     "text": [
      "Name: John , Salary: 0\n",
      "1\n",
      "Name: Jane Doe, Salary: 50000\n",
      "2\n"
     ]
    },
    {
     "ename": "NameError",
     "evalue": "name 'emp1' is not defined",
     "output_type": "error",
     "traceback": [
      "\u001b[1;31m---------------------------------------------------------------------------\u001b[0m",
      "\u001b[1;31mNameError\u001b[0m                                 Traceback (most recent call last)",
      "Cell \u001b[1;32mIn[1], line 32\u001b[0m\n\u001b[0;32m     29\u001b[0m \u001b[38;5;28mprint\u001b[39m(Employee\u001b[38;5;241m.\u001b[39mCount)\n\u001b[0;32m     31\u001b[0m \u001b[38;5;28;01mdel\u001b[39;00m emp1\n\u001b[1;32m---> 32\u001b[0m \u001b[38;5;28mprint\u001b[39m(\u001b[43memp1\u001b[49m)\n",
      "\u001b[1;31mNameError\u001b[0m: name 'emp1' is not defined"
     ]
    }
   ],
   "source": [
    "# create a class Employee with the following attributes fname, lname, age, gender, position, salary where fname and age are mandatory and the rest are optional. Create a static variable Count to keep track of the number of employees created. Create a method __str__ to return the employee's name and salary. and funcationlities to this class to change salary and age\n",
    "\n",
    "class Employee:\n",
    "    Count = 0\n",
    "    def __init__(self, fname, age, lname=\"\", gender=\"\", position=\"\", salary=0):\n",
    "        self.fname = fname\n",
    "        self.age = age\n",
    "        self.lname = lname  \n",
    "        self.gender = gender\n",
    "        self.position = position\n",
    "        self.salary = salary\n",
    "        Employee.Count += 1\n",
    "\n",
    "    def change_salary(self, salary):\n",
    "        self.salary = salary\n",
    "    \n",
    "    def change_age(self, age):\n",
    "        self.age = age\n",
    "    \n",
    "    def __str__(self):\n",
    "        return f\"Name: {self.fname} {self.lname}, Salary: {self.salary}\"\n",
    "\n",
    "emp1 = Employee(\"John\", 25)\n",
    "print(emp1)\n",
    "print(Employee.Count)\n",
    "\n",
    "emp2 = Employee(\"Jane\", 30, \"Doe\", \"F\", \"Manager\", 50000)\n",
    "print(emp2)\n",
    "print(Employee.Count)\n",
    "\n",
    "del emp1\n",
    "print(emp1)\n"
   ]
  }
 ],
 "metadata": {
  "kernelspec": {
   "display_name": ".venv",
   "language": "python",
   "name": "python3"
  },
  "language_info": {
   "codemirror_mode": {
    "name": "ipython",
    "version": 3
   },
   "file_extension": ".py",
   "mimetype": "text/x-python",
   "name": "python",
   "nbconvert_exporter": "python",
   "pygments_lexer": "ipython3",
   "version": "3.13.1"
  }
 },
 "nbformat": 4,
 "nbformat_minor": 2
}
