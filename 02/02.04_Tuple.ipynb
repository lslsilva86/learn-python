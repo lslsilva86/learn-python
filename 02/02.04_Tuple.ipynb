{
 "cells": [
  {
   "cell_type": "code",
   "execution_count": null,
   "metadata": {},
   "outputs": [],
   "source": [
    "# tuple\n",
    "\n",
    "# tuple items are ordered, unchangeable (add, remove, modifiy are not allowed), and allow duplicate values.\n",
    "\n",
    "myTuple = (\"apple\", 1, 3.5, 1)\n",
    "\n",
    "print(myTuple)\n",
    "\n",
    "print(type(myTuple))\n",
    "\n",
    "print(myTuple[1])\n",
    "\n",
    "myTuple[1] = 2 # this will raise an error because tuple is unchangeable"
   ]
  },
  {
   "cell_type": "code",
   "execution_count": 8,
   "metadata": {},
   "outputs": [
    {
     "name": "stdout",
     "output_type": "stream",
     "text": [
      "('apple', 'banana', 3.5, 1)\n"
     ]
    }
   ],
   "source": [
    "myTuple = (\"apple\", 1, 3.5, 1) # change the value of first index to banana\n",
    "myList = list(myTuple)\n",
    "myList[1] = \"banana\"\n",
    "myTuple = tuple(myList)\n",
    "print(myTuple)"
   ]
  },
  {
   "cell_type": "code",
   "execution_count": 7,
   "metadata": {},
   "outputs": [
    {
     "name": "stdout",
     "output_type": "stream",
     "text": [
      "('banana', 1, 3.5, 1)\n"
     ]
    }
   ],
   "source": [
    "myTuple = (\"apple\", 1, 3.5, 1)  # This creates a proper tuple\n",
    "myList = list(myTuple)\n",
    "myList[0] = \"banana\"  # Modify the first index\n",
    "myTuple = tuple(myList)\n",
    "print(myTuple)\n"
   ]
  },
  {
   "cell_type": "code",
   "execution_count": null,
   "metadata": {},
   "outputs": [],
   "source": [
    "myTuple = (\"apple\", 1, 3.5, 1) # add a new item to the tuple\n",
    "myList = list(myTuple)\n",
    "myList.append(\"orange\")\n",
    "myTuple = tuple(myList)\n",
    "print(myTuple)"
   ]
  },
  {
   "cell_type": "code",
   "execution_count": 10,
   "metadata": {},
   "outputs": [
    {
     "name": "stdout",
     "output_type": "stream",
     "text": [
      "('apple', 'banana', 'cherry', 1, 2, 3)\n"
     ]
    }
   ],
   "source": [
    "tuple1 = (\"apple\", \"banana\", \"cherry\")\n",
    "tuple2 = (1, 2, 3)\n",
    "tuple1 = tuple1 + tuple2\n",
    "print(tuple1)"
   ]
  }
 ],
 "metadata": {
  "kernelspec": {
   "display_name": ".venv",
   "language": "python",
   "name": "python3"
  },
  "language_info": {
   "codemirror_mode": {
    "name": "ipython",
    "version": 3
   },
   "file_extension": ".py",
   "mimetype": "text/x-python",
   "name": "python",
   "nbconvert_exporter": "python",
   "pygments_lexer": "ipython3",
   "version": "3.13.1"
  }
 },
 "nbformat": 4,
 "nbformat_minor": 2
}
