{
 "cells": [
  {
   "cell_type": "code",
   "execution_count": null,
   "metadata": {},
   "outputs": [],
   "source": [
    "print(1/2) \n",
    "# other langulage will output 0, but python3 will output 0.5"
   ]
  },
  {
   "cell_type": "code",
   "execution_count": null,
   "metadata": {},
   "outputs": [],
   "source": [
    "print(1//2) # this is floor division, it will output 0 - interger value is returned - **Integer division\n",
    "print(1.0//2.0) # this is floor division, it will output 0.0 - float value is returned - **Integer division"
   ]
  },
  {
   "cell_type": "code",
   "execution_count": null,
   "metadata": {},
   "outputs": [],
   "source": [
    "print(2**3) # this is power, it will output 8"
   ]
  },
  {
   "cell_type": "code",
   "execution_count": null,
   "metadata": {},
   "outputs": [],
   "source": [
    "print(7%4) # this is modulus, it will output 3"
   ]
  },
  {
   "cell_type": "code",
   "execution_count": null,
   "metadata": {},
   "outputs": [],
   "source": [
    "print(2+3)\n",
    "print(2+3.0)    \n",
    "print(2.0+3.0)"
   ]
  },
  {
   "cell_type": "code",
   "execution_count": null,
   "metadata": {},
   "outputs": [],
   "source": [
    "print('hokus ' + 'pokus')\n",
    "print('hokus ' * 5)\n",
    "# print(5 + '3') # this will throw an error, because you can't add string and integer"
   ]
  },
  {
   "cell_type": "code",
   "execution_count": null,
   "metadata": {},
   "outputs": [],
   "source": [
    "# input() function\n",
    "print('Enter your name: ')\n",
    "name = input()\n",
    "print('Hello', name)\n",
    "\n",
    "# name = input('Enter your name: ')\n",
    "# print('Hello', name)"
   ]
  },
  {
   "cell_type": "code",
   "execution_count": null,
   "metadata": {},
   "outputs": [],
   "source": [
    "print(+12)\n",
    "print(-12) # this is unary operator - negative number will keep minus sign"
   ]
  },
  {
   "cell_type": "code",
   "execution_count": null,
   "metadata": {},
   "outputs": [],
   "source": [
    "# order of operations\n",
    "\n",
    "# ** - power\n",
    "# * / // % - multiplication, division, floor division, modulus\n",
    "# + - - addition, subtraction\n",
    "# < <= > >= == != - comparison operators\n",
    "# not - logical NOT\n",
    "# and - logical AND\n",
    "# or - logical OR\n",
    "# = += -= *= /= //= %= **= - assignment operators\n",
    "# is, is not - identity operators\n",
    "# in, not in - membership operators\n",
    "# not, or, and - logical operators\n",
    "# lambda - lambda expression"
   ]
  },
  {
   "cell_type": "code",
   "execution_count": null,
   "metadata": {},
   "outputs": [],
   "source": [
    "# precesion of floating numbers\n",
    "print(0.1) # this will output 0.1\n",
    "print(1.1 + 2.2) # this will output 3.3000000000000003"
   ]
  },
  {
   "cell_type": "code",
   "execution_count": null,
   "metadata": {},
   "outputs": [],
   "source": [
    "# power operator right to left\n",
    "print(4**3**2) # this will output 262144, because 3**2 = 9, 4**9 = 262144"
   ]
  },
  {
   "cell_type": "code",
   "execution_count": null,
   "metadata": {},
   "outputs": [],
   "source": [
    "# bitwise operators - never used in python\n",
    "# & - bitwise AND\n",
    "# | - bitwise OR\n",
    "# ^ - bitwise XOR\n",
    "# ~ - bitwise NOT\n",
    "# << - bitwise left shift\n",
    "# >> - bitwise right shift\n",
    "\n",
    "# eg\n",
    "print(5 & 3) # this will output 1 - 101 & 011 = 001\n",
    "print(5 | 3) # this will output 7 - 101 | 011 = 111\n",
    "print(5 ^ 3) # this will output 6 - 101 ^ 011 = 110\n",
    "print(~5) # this will output -6 - ~5 = -6\n",
    "print(5 << 1) # this will output 10 - 101 << 1 = 1010\n",
    "print(5 >> 1) # this will output 2 - 101 >> 1 = 10"
   ]
  }
 ],
 "metadata": {
  "kernelspec": {
   "display_name": ".venv",
   "language": "python",
   "name": "python3"
  },
  "language_info": {
   "codemirror_mode": {
    "name": "ipython",
    "version": 3
   },
   "file_extension": ".py",
   "mimetype": "text/x-python",
   "name": "python",
   "nbconvert_exporter": "python",
   "pygments_lexer": "ipython3",
   "version": "3.13.1"
  }
 },
 "nbformat": 4,
 "nbformat_minor": 2
}
