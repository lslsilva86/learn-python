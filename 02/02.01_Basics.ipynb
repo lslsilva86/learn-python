{
 "cells": [
  {
   "cell_type": "code",
   "execution_count": null,
   "metadata": {},
   "outputs": [],
   "source": [
    "# print\n",
    "print(\"Hello, World!\", \"How are you\")"
   ]
  },
  {
   "cell_type": "code",
   "execution_count": null,
   "metadata": {},
   "outputs": [],
   "source": [
    "print(\"Hello, World!\", \"\\nHow are you\")"
   ]
  },
  {
   "cell_type": "code",
   "execution_count": 2,
   "metadata": {},
   "outputs": [
    {
     "name": "stdout",
     "output_type": "stream",
     "text": [
      "Hello, World!. How are you?\n"
     ]
    }
   ],
   "source": [
    "print(\"Hello, World!\", end=\". \") # end is a keyword argument, default value is \"\\n\"\n",
    "print(\"How are you?\")"
   ]
  },
  {
   "cell_type": "code",
   "execution_count": 3,
   "metadata": {},
   "outputs": [
    {
     "name": "stdout",
     "output_type": "stream",
     "text": [
      "Hello_World_How_are_you\n"
     ]
    }
   ],
   "source": [
    "# sep is a keyword argument, default value is \" \"\n",
    "print(\"Hello\", \"World\", \"How\", \"are\", \"you\", sep=\"_\") # Hello_World_How_are_you"
   ]
  },
  {
   "cell_type": "code",
   "execution_count": 4,
   "metadata": {},
   "outputs": [
    {
     "name": "stdout",
     "output_type": "stream",
     "text": [
      "Hello_World_How_are_you?"
     ]
    }
   ],
   "source": [
    "# sep and end can be used together\n",
    "print(\"Hello\", \"World\", \"How\", \"are\", \"you\", sep=\"_\", end=\"?\") # Hello_World_How_are_you?"
   ]
  },
  {
   "cell_type": "code",
   "execution_count": null,
   "metadata": {},
   "outputs": [],
   "source": [
    "# Single Line comment\n",
    "\n",
    "\"\"\"\n",
    "This is multiline comment\n",
    "This is multiline comment\n",
    "This is multiline comment\n",
    "\"\"\"\n",
    "\n",
    "'''\n",
    "This is multiline comment\n",
    "This is multiline comment\n",
    "This is multiline comment\n",
    "'''\n"
   ]
  },
  {
   "cell_type": "code",
   "execution_count": null,
   "metadata": {},
   "outputs": [],
   "source": [
    "# variables\n",
    "a = 10\n",
    "a = 'sam'\n",
    "\n",
    "print(a)    "
   ]
  },
  {
   "cell_type": "code",
   "execution_count": null,
   "metadata": {},
   "outputs": [],
   "source": [
    "# type casting\n",
    "a = str(10)\n",
    "print(a)\n",
    "b = float(3)\n",
    "print(b)\n",
    "print(type(a))\n",
    "print(type(b))\n",
    "\n",
    "#int()\n",
    "#str()\n",
    "#float()\n",
    "#bool()\n",
    "#list()\n",
    "#tuple()\n",
    "#dict()\n",
    "#set()\n",
    "#complex()\n",
    "#bytes()\n",
    "#bytearray()\n",
    "#memoryview()\n",
    "#range()\n",
    "#frozenset()"
   ]
  },
  {
   "cell_type": "code",
   "execution_count": null,
   "metadata": {},
   "outputs": [],
   "source": [
    "b = b\"Python\"\n",
    "print(b[1])\n",
    "\n",
    "\"\"\"\n",
    "b\"Python\":\n",
    "\n",
    "The b prefix before the string indicates that it is a bytes object, not a regular string.\n",
    "In a bytes object, each element represents the ASCII value (integer representation) of the character.\n",
    "b[1]:\n",
    "\n",
    "Accesses the second byte (0-based indexing) in the bytes object.\n",
    "The second character in b\"Python\" is 'y', whose ASCII value is 121.\n",
    "print(b[1]):\n",
    "\n",
    "Prints the integer ASCII value of the byte at index 1, which is 121.\n",
    "\n",
    "If you wanted to get the character 'y' instead of its ASCII value, you would convert the byte back to a character using chr() or decode the bytes object, like so:\n",
    "print(chr(b[1]))  # Output: y\n",
    "\n",
    "\"\"\""
   ]
  },
  {
   "cell_type": "code",
   "execution_count": 67,
   "metadata": {},
   "outputs": [],
   "source": [
    "# variable naming\n",
    "\n",
    "# Do not start with number\n",
    "# Do not use special characters\n",
    "# Do not use keywords\n",
    "# Do not use space\n",
    "# Use underscore for space\n",
    "# Use camelCase for multiple words\n",
    "# Use lowercase for variable names\n",
    "# Use uppercase for constants\n",
    "\n",
    "# camalCase\n",
    "myVariableName = 'sam'\n",
    "# PascalCase\n",
    "MyVariableName = 'sam'\n",
    "# snake_case\n",
    "my_variable_name = 'sam'"
   ]
  },
  {
   "cell_type": "code",
   "execution_count": null,
   "metadata": {},
   "outputs": [],
   "source": [
    "# assign multiple values\n",
    "x = 'orange'\n",
    "y = 'banana'\n",
    "z = 'cherry'\n",
    "\n",
    "x, y, z = 'orange', 'banana', 'cherry'\n",
    "\n",
    "print(x, y, z)"
   ]
  },
  {
   "cell_type": "code",
   "execution_count": null,
   "metadata": {},
   "outputs": [],
   "source": [
    "# unpacking a collection\n",
    "# collection can be list, tuple, set, dictionary (is a group of variables)\n",
    "\n",
    "fruits = ['apple', 'banana', 'cherry']\n",
    "x, y, z = fruits\n",
    "print(x, y, z)\n",
    "\n",
    "fruits2 = ['apple', 'banana', 'cherry', 'orange'] \n",
    "a, *b, c = fruits2\n",
    "print(a, b, c)"
   ]
  },
  {
   "cell_type": "code",
   "execution_count": null,
   "metadata": {},
   "outputs": [],
   "source": [
    "# concatenate variables\n",
    "\n",
    "x= \"Python\"\n",
    "y = \"is\"\n",
    "z = \"awesome\"\n",
    "print(x + y + z)\n",
    "\n",
    "a = 5\n",
    "b = \"Python\"\n",
    "# print(a + b) - will throw error\n",
    "print(str(a) + b)"
   ]
  },
  {
   "cell_type": "code",
   "execution_count": null,
   "metadata": {},
   "outputs": [],
   "source": [
    "# global variables\n",
    "\n",
    "def myfunc():\n",
    "    # p - local variable - will throw error cannot access p from outside\n",
    "    global p\n",
    "    p = \"fantastic\"\n",
    "\n",
    "myfunc()\n",
    "print(\"Python is \" + p)"
   ]
  },
  {
   "cell_type": "code",
   "execution_count": null,
   "metadata": {},
   "outputs": [],
   "source": [
    "fun = \"fun\" # this is a global variable\n",
    "def myNewFunc():\n",
    "    fun = \"fantastic\"\n",
    "    print(\"Python is \" + fun)\n",
    "myNewFunc()\n",
    "print(\"Python is \" + fun)"
   ]
  },
  {
   "cell_type": "code",
   "execution_count": null,
   "metadata": {},
   "outputs": [],
   "source": [
    "fun = \"fun\"\n",
    "def myNewFunc():\n",
    "    global fun\n",
    "    fun = \"fantastic\"\n",
    "    print(\"Python is \" + fun)\n",
    "myNewFunc()\n",
    "print(\"Python is \" + fun)"
   ]
  },
  {
   "cell_type": "code",
   "execution_count": null,
   "metadata": {},
   "outputs": [],
   "source": [
    "# data types\n",
    "\n",
    "# Text Type     :\tstr\n",
    "# Numeric Types :\tint, float, complex\n",
    "# Sequence Types:\tlist, tuple, range\n",
    "# Mapping Type  :\tdict\n",
    "# Set Types     :\tset, frozenset\n",
    "# Boolean Type  :\tbool\n",
    "# Binary Types  :\tbytes, bytearray, memory\n",
    "\n",
    "# all are mutable except tuple, range, frozenset, bytes\n",
    "\n",
    "x = \"Hello World\"\t                # str\n",
    "x = 20\t                            # int\n",
    "x = 20.5\t                        # float\n",
    "x = 1j\t                            # complex  ** Important **\n",
    "x = [\"apple\", \"banana\", \"cherry\"]\t# list\n",
    "x = (\"apple\", \"banana\", \"cherry\")\t# tuple\n",
    "x = range(6)\t                    # range\n",
    "x = {\"name\" : \"John\", \"age\" : 36}\t# dict\n",
    "x = {\"apple\", \"banana\", \"cherry\"}\t# set\n",
    "x = True                            # bool\n",
    "print(type(x))"
   ]
  },
  {
   "cell_type": "code",
   "execution_count": null,
   "metadata": {},
   "outputs": [],
   "source": [
    "x = 232789378973878979809098098097907098098970909070707070 # no limit\n",
    "# that is why python does not have long, double data type\n",
    "print (x)"
   ]
  },
  {
   "cell_type": "code",
   "execution_count": null,
   "metadata": {},
   "outputs": [],
   "source": [
    "print (0.00000000000000000000000000000003) # 3e-29"
   ]
  },
  {
   "cell_type": "code",
   "execution_count": null,
   "metadata": {},
   "outputs": [],
   "source": [
    "print(0O232) # 0o or 0O for octal - zero followed by small or capital o - 0-7\n",
    "print(0x232) # 0x for hexadecimal - zero followed by x  - 0-9, a-f"
   ]
  },
  {
   "cell_type": "code",
   "execution_count": null,
   "metadata": {},
   "outputs": [],
   "source": [
    "import random # import random module/library/package\n",
    "print(random.randrange(1, 10))"
   ]
  },
  {
   "cell_type": "code",
   "execution_count": null,
   "metadata": {},
   "outputs": [],
   "source": [
    "myName = \"My Name is \\\"Saneera\\\"\"   # escape character\n",
    "myName = 'My Name is \"Saneera\"'     # single qoutes     \n",
    "print(myName)"
   ]
  },
  {
   "cell_type": "code",
   "execution_count": null,
   "metadata": {},
   "outputs": [],
   "source": [
    "a = \"Hello, World!\"\n",
    "print(a[1])     # e\n",
    "print(a[-1])    # ! - negative index starts from end\n",
    "print(a[-5:-2]) # orl - negative index slice from end\n",
    "print(a[2:5])   # llo - select a slice\n",
    "print(a[:5])    # Hello - slice from start\n",
    "print(a[2:])    # llo, World! - slice to end\n",
    "print(len(a))   # 13"
   ]
  },
  {
   "cell_type": "code",
   "execution_count": null,
   "metadata": {},
   "outputs": [],
   "source": [
    "text = \"The rain in Spain stays mainly in the plain\"\n",
    "print(\"Spain\" in text) # True\n",
    "print(\"spain\" in text) # False\n",
    "print(\"Spain\" not in text) # False"
   ]
  },
  {
   "cell_type": "code",
   "execution_count": null,
   "metadata": {},
   "outputs": [],
   "source": [
    "a = \"         Hello   World     \"\n",
    "print(a.strip())    # remove white spaces from start and end of string"
   ]
  },
  {
   "cell_type": "code",
   "execution_count": null,
   "metadata": {},
   "outputs": [],
   "source": [
    "b = \"Hello, World!\"\n",
    "print(b.replace(\"H\", \"J\"))  # Jello, World! - String is mutable"
   ]
  },
  {
   "cell_type": "code",
   "execution_count": null,
   "metadata": {},
   "outputs": [],
   "source": [
    "c = \"Hello, World!\"\n",
    "print(c.split(\" \")) # ['Hello,', 'World!'] - split string by space"
   ]
  },
  {
   "cell_type": "code",
   "execution_count": null,
   "metadata": {},
   "outputs": [],
   "source": [
    "d = \"Hello, World!\"\n",
    "#print(d.split(\"\")) # ['H', 'e', 'l', 'l', 'o', ',', ' ', 'W', 'o', 'r', 'l', 'd', '!'] - split string by character"
   ]
  },
  {
   "cell_type": "code",
   "execution_count": null,
   "metadata": {},
   "outputs": [],
   "source": [
    "# format strings\n",
    "age = 36\n",
    "txt = \"My name is John, and I am {}\"  # f in front of string is not required in version 3.6+\n",
    "print(txt.format(age))"
   ]
  }
 ],
 "metadata": {
  "kernelspec": {
   "display_name": ".venv",
   "language": "python",
   "name": "python3"
  },
  "language_info": {
   "codemirror_mode": {
    "name": "ipython",
    "version": 3
   },
   "file_extension": ".py",
   "mimetype": "text/x-python",
   "name": "python",
   "nbconvert_exporter": "python",
   "pygments_lexer": "ipython3",
   "version": "3.13.1"
  }
 },
 "nbformat": 4,
 "nbformat_minor": 2
}
