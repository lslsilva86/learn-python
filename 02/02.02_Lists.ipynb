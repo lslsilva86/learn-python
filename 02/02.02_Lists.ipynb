{
 "cells": [
  {
   "cell_type": "code",
   "execution_count": null,
   "metadata": {},
   "outputs": [],
   "source": [
    "# lists \n",
    "\n",
    "# list is a collection of items in a particular order - order means that each item in the list has a specific position\n",
    "# list can be modified\n",
    "# list can have duplicate items\n",
    "# list can have different data types\n",
    "# list is mutable\n",
    "# list is enclosed in square brackets []"
   ]
  },
  {
   "cell_type": "code",
   "execution_count": 3,
   "metadata": {},
   "outputs": [
    {
     "name": "stdout",
     "output_type": "stream",
     "text": [
      "[1, 'apple', 2.5, True, 2.5]\n"
     ]
    }
   ],
   "source": [
    "myList = [1, \"apple\", 2.5, True, 2.5] # duplicate items are allowed\n",
    "print(myList)"
   ]
  },
  {
   "cell_type": "code",
   "execution_count": 4,
   "metadata": {},
   "outputs": [
    {
     "name": "stdout",
     "output_type": "stream",
     "text": [
      "[1, 'apple', 2.5, True, 2.5]\n",
      "[1, 'apple', 3.5, False, 2.5]\n",
      "[1, 'apple', 3.5, 2.5]\n",
      "[1, 'apple', 3.5, False, 3.5, 2.5]\n"
     ]
    }
   ],
   "source": [
    "# modification\n",
    "myList = [1, \"apple\", 2.5, True, 2.5]\n",
    "print(myList)\n",
    "myList[2:4] = [3.5, False] # replace 2.5 and True with 3.5 and False upto 4th index (exclusive)\n",
    "print(myList)\n",
    "\n",
    "myList[2:4] = [3.5] # replace 2.5 and True both with 3.5] - remove items\n",
    "print(myList)\n",
    "\n",
    "myList[2:2] = [3.5, False] # insert 3.5 and False at 2nd index\n",
    "print(myList)"
   ]
  },
  {
   "cell_type": "code",
   "execution_count": 7,
   "metadata": {},
   "outputs": [
    {
     "name": "stdout",
     "output_type": "stream",
     "text": [
      "[1, 'apple', 2.5, True, 2.5, [1, 2, 3]]\n",
      "[1, 'apple', 2.5, True, 2.5, {1, 2, 3}, (1, 2, 3), {'name': 'John', 'age': 30}]\n"
     ]
    }
   ],
   "source": [
    "# nested list\n",
    "myList = [1, \"apple\", 2.5, True, 2.5, [1, 2, 3]]\n",
    "print(myList)\n",
    "\n",
    "# lists can include sets, dictionaries, tuples, etc.\n",
    "myList = [1, \"apple\", 2.5, True, 2.5, {1, 2, 3}, (1, 2, 3), {\"name\": \"John\", \"age\": 30}]\n",
    "print(myList)"
   ]
  },
  {
   "cell_type": "code",
   "execution_count": 3,
   "metadata": {},
   "outputs": [
    {
     "data": {
      "text/plain": [
       "3"
      ]
     },
     "execution_count": 3,
     "metadata": {},
     "output_type": "execute_result"
    }
   ],
   "source": [
    "d = {'a': 1, 'b': 2}\n",
    "d.get('c', 3)\n",
    "\n",
    "\n",
    "\"\"\"\n",
    "The .get() method in a dictionary is used to retrieve the value for a specified key.\n",
    "Syntax: dictionary.get(key, default)\n",
    "If the key exists in the dictionary, .get() returns its value.\n",
    "If the key does not exist, .get() returns the default value (if provided). If no default is provided, it returns None.\n",
    "In this case:\n",
    "\n",
    "The dictionary d contains the keys 'a' and 'b', but not 'c'.\n",
    "Since 'c' is not in the dictionary, the .get('c', 3) method returns the default value, which is 3.\n",
    "\"\"\""
   ]
  },
  {
   "cell_type": "code",
   "execution_count": 4,
   "metadata": {},
   "outputs": [
    {
     "name": "stdout",
     "output_type": "stream",
     "text": [
      "2\n"
     ]
    }
   ],
   "source": [
    "a, b = 5, 3 \n",
    "a %= b\n",
    "print(a)\n",
    "\n",
    "# a, b = 5, 3  # Assign 5 to a and 3 to b\n",
    "# a %= b       # Perform modulus operation and assign the result to a\n",
    "# print(a)     # Print the value of a"
   ]
  },
  {
   "cell_type": "code",
   "execution_count": 5,
   "metadata": {},
   "outputs": [
    {
     "name": "stdout",
     "output_type": "stream",
     "text": [
      "[1, 2, 8, 9, 5]\n"
     ]
    }
   ],
   "source": [
    "my_list = [1, 2, 3, 4, 5]\n",
    "my_list[2:4] = [8, 9]\n",
    "print(my_list)"
   ]
  },
  {
   "cell_type": "code",
   "execution_count": 6,
   "metadata": {},
   "outputs": [
    {
     "name": "stdout",
     "output_type": "stream",
     "text": [
      "list1: [1, 3]\n",
      "list2: [2]\n",
      "list3: [1, 3]\n"
     ]
    }
   ],
   "source": [
    "def add_to_list(val, lst=[]):\n",
    "    lst.append(val)\n",
    "    return lst\n",
    "\n",
    "list1 = add_to_list(1)\n",
    "list2 = add_to_list(2, [])\n",
    "list3 = add_to_list(3)\n",
    "\n",
    "print(\"list1:\", list1)\n",
    "print(\"list2:\", list2)\n",
    "print(\"list3:\", list3)"
   ]
  },
  {
   "cell_type": "markdown",
   "metadata": {},
   "source": [
    "This behavior occurs because of how **mutable default arguments** work in Python. Let me clarify why `list1` becomes `[1, 3]` in the final output.\n",
    "\n",
    "---\n",
    "\n",
    "### Key Concept: Mutable Default Argument\n",
    "The default argument `lst=[]` is **not re-initialized** for every function call. Instead, Python **creates the list once** (at the time the function is defined) and **reuses it** for subsequent calls **that don't explicitly provide a `lst` argument**.\n",
    "\n",
    "---\n",
    "\n",
    "### Step-by-Step Execution:\n",
    "\n",
    "1. **Call 1: `list1 = add_to_list(1)`**\n",
    "   - `val=1`, and the default list `lst=[]` is used.\n",
    "   - `lst.append(1)` adds `1` to the default list.\n",
    "   - At the end of Call 1, the shared default list is `[1]`.\n",
    "   - `list1` is assigned the same list object, so `list1 = [1]`.\n",
    "\n",
    "2. **Call 2: `list2 = add_to_list(2, [])`**\n",
    "   - `val=2`, but this time a **new list `[]`** is explicitly passed as `lst`.\n",
    "   - `lst.append(2)` adds `2` to this new, separate list.\n",
    "   - This does not affect the shared default list.\n",
    "   - At the end of Call 2, `list2 = [2]`.\n",
    "\n",
    "3. **Call 3: `list3 = add_to_list(3)`**\n",
    "   - `val=3`, and since no `lst` is provided, the **shared default list** from Call 1 is reused.\n",
    "   - At this point, the shared default list already contains `[1]` (from Call 1).\n",
    "   - `lst.append(3)` adds `3` to the shared default list.\n",
    "   - At the end of Call 3, the shared default list is `[1, 3]`.\n",
    "   - `list3` is assigned the same shared default list, so `list3 = [1, 3]`.\n",
    "\n",
    "4. **Effect on `list1`:**\n",
    "   - Since `list1` and `list3` both refer to the **same shared default list**, any modifications to this list (like appending `3` in Call 3) are reflected in both `list1` and `list3`.\n",
    "\n",
    "---\n",
    "\n",
    "### Why `list1: [1, 3]`?\n",
    "After Call 3:\n",
    "- The shared default list (used by both `list1` and `list3`) is `[1, 3]`.\n",
    "- Both `list1` and `list3` point to the same list object in memory, so they both show the updated value `[1, 3]`.\n",
    "\n",
    "---\n",
    "\n",
    "### How to Avoid This Behavior:\n",
    "To ensure that each call to the function gets a new, independent list, you can use `None` as the default value and create a new list inside the function:\n",
    "\n",
    "```python\n",
    "def add_to_list(val, lst=None):\n",
    "    if lst is None:  # Create a new list if no list is provided\n",
    "        lst = []\n",
    "    lst.append(val)\n",
    "    return lst\n",
    "\n",
    "list1 = add_to_list(1)\n",
    "list2 = add_to_list(2, [])\n",
    "list3 = add_to_list(3)\n",
    "\n",
    "print(\"list1:\", list1)  # Output: [1]\n",
    "print(\"list2:\", list2)  # Output: [2]\n",
    "print(\"list3:\", list3)  # Output: [3]\n",
    "```\n",
    "\n",
    "This ensures that each call gets its own list and avoids unexpected sharing of the default list."
   ]
  },
  {
   "cell_type": "code",
   "execution_count": 7,
   "metadata": {},
   "outputs": [
    {
     "name": "stdout",
     "output_type": "stream",
     "text": [
      "{'a': 1, 'b': 2, 'c': 3}\n"
     ]
    }
   ],
   "source": [
    "my_dict = {1: 'a', 2: 'b', 3: 'c'}\n",
    "my_dict2 = {value: key for key, value in my_dict.items()}\n",
    "print(my_dict2)"
   ]
  },
  {
   "cell_type": "code",
   "execution_count": 25,
   "metadata": {},
   "outputs": [
    {
     "name": "stdout",
     "output_type": "stream",
     "text": [
      "[1, 2, 5, 3, 4]\n",
      "[1, 2, 5, 3, 4, 5, 6, 7]\n",
      "[1, 2, 5, 3, 4, 5, 6, 7, 5, 6, 7]\n",
      "[1, 2, 5, 3, 4, 5, 6, 7, [8, 9]]\n",
      "[1, 2, 3, 4, 5, 6, 7, [8, 9]]\n",
      "[1, 2, 3, 4, 5, 6, 7]\n",
      "[1, 3, 4, 5, 6, 7]\n",
      "[]\n"
     ]
    }
   ],
   "source": [
    "# list insert\n",
    "my_list = [1, 2, 3, 4]\n",
    "my_list.insert(2, 5)\n",
    "print(my_list)\n",
    "\n",
    "# list extend\n",
    "my_list_2 = [5, 6, 7]\n",
    "my_list.extend(my_list_2)\n",
    "print(my_list)\n",
    "\n",
    "# list merge\n",
    "my_list_3 = my_list + my_list_2 # concatenate two lists\n",
    "print(my_list_3)\n",
    "\n",
    "# list append\n",
    "my_list.append([8, 9])\n",
    "print(my_list)\n",
    "\n",
    "# list remove\n",
    "my_list.remove(5)\n",
    "print(my_list)\n",
    "\n",
    "# list pop\n",
    "my_list.pop() # remove last element\n",
    "print(my_list)\n",
    "\n",
    "# list del\n",
    "del my_list[1]\n",
    "print(my_list)\n",
    "\n",
    "# list clear\n",
    "my_list.clear()\n",
    "print(my_list)"
   ]
  },
  {
   "cell_type": "code",
   "execution_count": 23,
   "metadata": {},
   "outputs": [
    {
     "name": "stdout",
     "output_type": "stream",
     "text": [
      "9\n",
      "6\n",
      "4\n"
     ]
    }
   ],
   "source": [
    "list1 = [9, 6, 4]\n",
    "\n",
    "for index in range(len(list1)):\n",
    "    print(list1[index])"
   ]
  },
  {
   "cell_type": "markdown",
   "metadata": {},
   "source": [
    "Let me break it down step by step to explain how **dictionary comprehension swaps the key and value**.\n",
    "\n",
    "---\n",
    "\n",
    "### Starting with `my_dict`:\n",
    "You have a dictionary:\n",
    "\n",
    "```python\n",
    "my_dict = {1: 'a', 2: 'b', 3: 'c'}\n",
    "```\n",
    "\n",
    "This dictionary contains:\n",
    "- Keys: `1`, `2`, `3`\n",
    "- Values: `'a'`, `'b'`, `'c'`\n",
    "\n",
    "### `.items()` Method:\n",
    "When you call `my_dict.items()`, it gives you all the key-value pairs in the dictionary as a sequence of tuples:\n",
    "```python\n",
    "my_dict.items() -> [(1, 'a'), (2, 'b'), (3, 'c')]\n",
    "```\n",
    "\n",
    "Each tuple is of the form `(key, value)`.\n",
    "\n",
    "---\n",
    "\n",
    "### Dictionary Comprehension:\n",
    "The dictionary comprehension is:\n",
    "```python\n",
    "my_dict2 = {value: key for key, value in my_dict.items()}\n",
    "```\n",
    "\n",
    "Here:\n",
    "- **`key, value`** comes from each tuple in `my_dict.items()`.\n",
    "- The order is reversed in the comprehension: `{value: key}`.\n",
    "  - This means that:\n",
    "    - The `value` from `my_dict` becomes the **key** in `my_dict2`.\n",
    "    - The `key` from `my_dict` becomes the **value** in `my_dict2`.\n",
    "\n",
    "### Iterating Through `my_dict.items()`:\n",
    "For each `(key, value)` in `my_dict.items()`, this happens:\n",
    "1. For `(1, 'a')`, `value='a'`, `key=1` → Add `'a': 1` to `my_dict2`.\n",
    "2. For `(2, 'b')`, `value='b'`, `key=2` → Add `'b': 2` to `my_dict2`.\n",
    "3. For `(3, 'c')`, `value='c'`, `key=3` → Add `'c': 3` to `my_dict2`.\n",
    "\n",
    "The resulting dictionary is:\n",
    "```python\n",
    "my_dict2 = {'a': 1, 'b': 2, 'c': 3}\n",
    "```\n",
    "\n",
    "---\n",
    "\n",
    "### Why is it called \"swapping key and value\"?\n",
    "In `my_dict`, the **keys are numbers** and the **values are letters**. After the comprehension:\n",
    "- The **keys (numbers)** become the **values** in `my_dict2`.\n",
    "- The **values (letters)** become the **keys** in `my_dict2`.\n",
    "\n",
    "This is what we mean by \"swapping key and value.\"\n",
    "\n",
    "---\n",
    "\n",
    "### Final Output:\n",
    "```python\n",
    "print(my_dict2)  # Output: {'a': 1, 'b': 2, 'c': 3}\n",
    "```\n",
    "\n",
    "---"
   ]
  },
  {
   "cell_type": "code",
   "execution_count": 8,
   "metadata": {},
   "outputs": [
    {
     "name": "stdout",
     "output_type": "stream",
     "text": [
      "30\n",
      "20\n",
      "40\n"
     ]
    }
   ],
   "source": [
    "def func(a, b):\n",
    "    return a + b\n",
    "\n",
    "a = 10\n",
    "b = 20\n",
    "\n",
    "print(func(a, b))\n",
    "print(func(a, 10))\n",
    "print(func(b, 20))"
   ]
  },
  {
   "cell_type": "markdown",
   "metadata": {},
   "source": [
    "#### **`list(map(int, input().split()))`**\n",
    "- This option is correct because:\n",
    "  1. `input().split()` splits the input string into a list of strings.\n",
    "  2. `map(int, ...)` converts each string in the list to an integer.\n",
    "  3. `list(...)` converts the result from `map` to a list.\n",
    "- Example:\n",
    "  ```python\n",
    "  input: 1 2 3\n",
    "  result: [1, 2, 3]  # List of integers\n",
    "  ```"
   ]
  }
 ],
 "metadata": {
  "kernelspec": {
   "display_name": ".venv",
   "language": "python",
   "name": "python3"
  },
  "language_info": {
   "codemirror_mode": {
    "name": "ipython",
    "version": 3
   },
   "file_extension": ".py",
   "mimetype": "text/x-python",
   "name": "python",
   "nbconvert_exporter": "python",
   "pygments_lexer": "ipython3",
   "version": "3.13.1"
  }
 },
 "nbformat": 4,
 "nbformat_minor": 2
}
