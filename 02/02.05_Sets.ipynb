{
 "cells": [
  {
   "cell_type": "code",
   "execution_count": null,
   "metadata": {},
   "outputs": [],
   "source": [
    "# set\n",
    "\n",
    "# sets are unordered, unchangable (modification not allowed but add/remove is allowed), mutable, and no duplicate values\n",
    "\n",
    "myset = {\"apple\", \"banana\", \"cherry\"}\n",
    "print(myset)\n",
    "print(myset[0]) # error - why because sets are unordered\n",
    "myset[0] = \"orange\" # error - why because sets are unchangable\n"
   ]
  },
  {
   "cell_type": "code",
   "execution_count": null,
   "metadata": {},
   "outputs": [],
   "source": [
    "my_set = {1, 2, 3}\n",
    "# This initializes a set containing integers {1, 2, 3}"
   ]
  },
  {
   "cell_type": "code",
   "execution_count": null,
   "metadata": {},
   "outputs": [],
   "source": [
    "# Initialize a set\n",
    "my_set = {1, 2, 3}\n",
    "\n",
    "# Adding an immutable element (e.g., a tuple) to the set\n",
    "my_set.add((4, 5))  # Tuples are immutable and hashable\n",
    "\n",
    "# Output the updated set\n",
    "print(my_set)  # Output: {1, 2, 3, (4, 5)}\n",
    "\n",
    "# solution is to use update() method to add multiple elements to the set\n"
   ]
  },
  {
   "cell_type": "code",
   "execution_count": null,
   "metadata": {},
   "outputs": [],
   "source": [
    "my_set.add([4, 5])\n",
    "# The .add() method adds a single element to the set.\n",
    "# Error: Sets in Python can only contain hashable (immutable) objects. A list, like [4, 5], is mutable and therefore not hashable."
   ]
  },
  {
   "cell_type": "code",
   "execution_count": null,
   "metadata": {},
   "outputs": [],
   "source": [
    "my_set.update([6, 7])\n",
    "# The .update() method adds multiple elements (from an iterable) to the set.\n",
    "# Here, [6, 7] is a list (mutable), but .update() adds its individual elements (integers) to the set, which are immutable."
   ]
  },
  {
   "cell_type": "code",
   "execution_count": null,
   "metadata": {},
   "outputs": [],
   "source": [
    "my_set.remove(1)\n",
    "# The .remove() method removes a specific element from the set.\n",
    "# If the element exists (e.g., 1 in {1, 2, 3}), it removes the element."
   ]
  },
  {
   "cell_type": "code",
   "execution_count": null,
   "metadata": {},
   "outputs": [],
   "source": [
    "myset = {\"apple\", \"banana\", \"cherry\"}\n",
    "print(myset)\n",
    "myset.add(\"orange\") # not sure where it will add\n",
    "print(myset)\n",
    "#myset.append(\"orange\") # error - why because sets are unchangable\n",
    "myset.update([\"orange\", \"mango\", \"grapes\"])\n",
    "print(myset)\n",
    "myset.remove(\"banana\")\n",
    "print(myset)"
   ]
  },
  {
   "cell_type": "code",
   "execution_count": null,
   "metadata": {},
   "outputs": [],
   "source": [
    "myset = {\"apple\", \"banana\", \"cherry\"}\n",
    "for x in myset:\n",
    "  print(x)  # unordered\n",
    "\n",
    "# can access only by value not index because sets are unordered"
   ]
  },
  {
   "cell_type": "code",
   "execution_count": null,
   "metadata": {},
   "outputs": [],
   "source": [
    "myset = {\"apple\", \"banana\", \"cherry\", 0, True, False}\n",
    "print(myset) # no duplicates # False is missing because it is duplicate of 0"
   ]
  },
  {
   "cell_type": "code",
   "execution_count": 19,
   "metadata": {},
   "outputs": [
    {
     "name": "stdout",
     "output_type": "stream",
     "text": [
      "0 {True, 'apple', 'banana', 'cherry'}\n"
     ]
    }
   ],
   "source": [
    "myset = {\"apple\", \"banana\", \"cherry\", 0, True, False}\n",
    "x = myset.pop()\n",
    "print(x, myset) # random value"
   ]
  },
  {
   "cell_type": "code",
   "execution_count": 20,
   "metadata": {},
   "outputs": [
    {
     "name": "stdout",
     "output_type": "stream",
     "text": [
      "{1, 'b', 'c', 'a', 2, 3}\n"
     ]
    }
   ],
   "source": [
    "# union / meging multiple sets\n",
    "set1 = {\"a\", \"b\" , \"c\"}\n",
    "set2 = {1, 2, 3}\n",
    "set3 = set1.union(set2)\n",
    "print(set3)"
   ]
  },
  {
   "cell_type": "code",
   "execution_count": 22,
   "metadata": {},
   "outputs": [
    {
     "name": "stdout",
     "output_type": "stream",
     "text": [
      "{False, 1, 'b', 'c', 'a', 2, 3}\n"
     ]
    }
   ],
   "source": [
    "set1 = {\"a\", \"b\" , \"c\"}\n",
    "set2 = {1, 2, 3}\n",
    "set3 = {True, False}    \n",
    "set1 = set1.union(set2, set3)\n",
    "print(set1) # True is missing because it is duplicate of 1\n",
    "\n",
    "# set1 = set1|set2|set3 # same as union\n",
    "# print(set1)\n"
   ]
  },
  {
   "cell_type": "code",
   "execution_count": 24,
   "metadata": {},
   "outputs": [
    {
     "name": "stdout",
     "output_type": "stream",
     "text": [
      "{False, 1, 2, 3, 'b', 'c', 'a'}\n"
     ]
    }
   ],
   "source": [
    "set1 = {\"a\", \"b\" , \"c\"}\n",
    "list1 = [1, 2, 3]\n",
    "tuple1 = (True, False)\n",
    "\n",
    "# set1.update(list1)\n",
    "# set1.update(tuple1)\n",
    "\n",
    "set1.update(list1, tuple1) # update is used when different data types\n",
    "print(set1)"
   ]
  },
  {
   "cell_type": "code",
   "execution_count": 26,
   "metadata": {},
   "outputs": [
    {
     "name": "stdout",
     "output_type": "stream",
     "text": [
      "{'b', 'a'}\n"
     ]
    }
   ],
   "source": [
    "# intersection / common elements\n",
    "\n",
    "set1 = {\"a\", \"b\" , \"c\"}\n",
    "set2 = {\"a\", \"b\" , \"d\"}\n",
    "set3 = set1.intersection(set2) \n",
    "# or\n",
    "# set3 = set1 & set2 \n",
    "print(set3)"
   ]
  },
  {
   "cell_type": "code",
   "execution_count": 27,
   "metadata": {},
   "outputs": [
    {
     "name": "stdout",
     "output_type": "stream",
     "text": [
      "{'c'}\n"
     ]
    }
   ],
   "source": [
    "# difference / elements in set1 but not in set2\n",
    "set1 = {\"a\", \"b\" , \"c\"}\n",
    "set2 = {\"a\", \"b\" , \"d\"}\n",
    "set3 = set1.difference(set2)\n",
    "# or\n",
    "# set3 = set1 - set2\n",
    "print(set3) # print elements which are present in set1 but not in set2"
   ]
  },
  {
   "cell_type": "code",
   "execution_count": 28,
   "metadata": {},
   "outputs": [
    {
     "name": "stdout",
     "output_type": "stream",
     "text": [
      "{'c', 'd'}\n"
     ]
    }
   ],
   "source": [
    "# symmetric difference / elements in set1 or set2 but not in both\n",
    "set1 = {\"a\", \"b\" , \"c\"}\n",
    "set2 = {\"a\", \"b\" , \"d\"}\n",
    "set3 = set1.symmetric_difference(set2)\n",
    "# or\n",
    "# set3 = set1 ^ set2\n",
    "print(set3) # print elements which are present in set1 or set2 but not in both"
   ]
  }
 ],
 "metadata": {
  "kernelspec": {
   "display_name": ".venv",
   "language": "python",
   "name": "python3"
  },
  "language_info": {
   "codemirror_mode": {
    "name": "ipython",
    "version": 3
   },
   "file_extension": ".py",
   "mimetype": "text/x-python",
   "name": "python",
   "nbconvert_exporter": "python",
   "pygments_lexer": "ipython3",
   "version": "3.13.1"
  }
 },
 "nbformat": 4,
 "nbformat_minor": 2
}
