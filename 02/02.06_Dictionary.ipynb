{
 "cells": [
  {
   "cell_type": "code",
   "execution_count": 1,
   "metadata": {},
   "outputs": [
    {
     "name": "stdout",
     "output_type": "stream",
     "text": [
      "{'name': 'John', 'age': 36, 'country': 'Norway'}\n",
      "John\n",
      "{'name': 'John', 'age': 40, 'country': 'Norway'}\n"
     ]
    }
   ],
   "source": [
    "\n",
    "# Python Dictionary - used to store data values in key:value pairs, \n",
    "# and they are unordered, changeable and does not allow duplicates.   \n",
    "# Values can be any type of data.    \n",
    "myDict = {\n",
    "    \"name\": \"John\",\n",
    "    \"age\": 36,\n",
    "    \"country\": \"Norway\"\n",
    "}\n",
    "print(myDict)\n",
    "print(myDict[\"name\"])\n",
    "myDict[\"age\"] = 40\n",
    "print(myDict)\n"
   ]
  },
  {
   "cell_type": "code",
   "execution_count": null,
   "metadata": {},
   "outputs": [],
   "source": [
    "# add or update a key\n",
    "\n",
    "mydict2 = { \"name\": \"John\", \"age\": 36, \"country\": \"Norway\" }\n",
    "mydict2[\"email\"] = \"abc@abc.com\"\n",
    "print(mydict2)\n",
    "mydict2.update({\"email\": \"cde@abc.com\"})\n",
    "print(mydict2)"
   ]
  },
  {
   "cell_type": "code",
   "execution_count": 3,
   "metadata": {},
   "outputs": [
    {
     "name": "stdout",
     "output_type": "stream",
     "text": [
      "{'name': 'John', 'age': 40, 'country': 'Norway'}\n"
     ]
    }
   ],
   "source": [
    "mydict = { \"name\": \"John\", \"age\": 36, \"country\": \"Norway\", \"age\": 40 } \n",
    "print(mydict)   \n",
    "# the last value will be the one that is stored in the dictionary"
   ]
  },
  {
   "cell_type": "code",
   "execution_count": 4,
   "metadata": {},
   "outputs": [
    {
     "name": "stdout",
     "output_type": "stream",
     "text": [
      "John\n",
      "Norway\n",
      "dict_keys(['name', 'age', 'country'])\n",
      "dict_values(['John', 36, 'Norway'])\n",
      "dict_items([('name', 'John'), ('age', 36), ('country', 'Norway')])\n"
     ]
    }
   ],
   "source": [
    "mydict = { \"name\": \"John\", \"age\": 36, \"country\": \"Norway\" }\n",
    "print(mydict.get(\"name\"))\n",
    "print(mydict[\"country\"]) \n",
    "print(mydict.keys())\n",
    "print(mydict.values())\n",
    "print(mydict.items())"
   ]
  },
  {
   "cell_type": "code",
   "execution_count": 5,
   "metadata": {},
   "outputs": [
    {
     "name": "stdout",
     "output_type": "stream",
     "text": [
      "name John\n",
      "age 36\n",
      "country Norway\n"
     ]
    }
   ],
   "source": [
    "for key in mydict:\n",
    "    print(key, mydict[key])"
   ]
  },
  {
   "cell_type": "code",
   "execution_count": null,
   "metadata": {},
   "outputs": [],
   "source": [
    "# add items\n",
    "mydict[\"email\"] = \"abc@abc.com\"\n",
    "\n",
    "# remove items\n",
    "mydict.pop(\"email\")\n",
    "\n",
    "# remove last item\n",
    "mydict.popitem()\n",
    "\n",
    "# remove all items\n",
    "mydict.clear()\n",
    "\n",
    "# delete the dictionary\n",
    "del mydict\n",
    "\n",
    "# copy a dictionary\n",
    "mydict = { \"name\": \"John\", \"age\": 36, \"country\": \"Norway\" }\n",
    "mydict2 = mydict.copy()\n",
    "print(mydict2)\n",
    "\n",
    "# nested dictionary\n",
    "myfamily = {\n",
    "    \"child1\": {\n",
    "        \"name\": \"Emil\",\n",
    "        \"age\": 3\n",
    "    },\n",
    "    \"child2\": {\n",
    "        \"name\": \"Tobias\",\n",
    "        \"age\": 7\n",
    "    },\n",
    "    \"child3\": {\n",
    "        \"name\": \"Linus\",\n",
    "        \"age\": 10\n",
    "    }\n",
    "}\n",
    "print(myfamily)\n",
    "\n",
    "child1 = {  \"name\": \"Emil\", \"age\": 3 }\n",
    "child2 = {  \"name\": \"Tobias\", \"age\": 7 }\n",
    "child3 = {  \"name\": \"Linus\", \"age\": 10 }\n",
    "myfamily = { \"child1\": child1, \"child2\": child2, \"child3\": child3 }\n",
    "print(myfamily)\n",
    "\n",
    "# dictionary constructor\n",
    "mydict = dict(name=\"John\", age=36, country=\"Norway\")\n",
    "print(mydict)\n",
    "\n",
    "# dictionary methods\n",
    "# clear()\tRemoves all the elements from the dictionary\n",
    "# copy()\tReturns a copy of the dictionary\n",
    "# fromkeys()\tReturns a dictionary with the specified keys and value\n",
    "# get()\tReturns the value of the specified key\n",
    "# items()\tReturns a list containing a tuple for each key value pair\n",
    "# keys()\tReturns a list containing the dictionary's keys\n",
    "# pop()\tRemoves the element with the specified key\n",
    "# popitem()\tRemoves the last inserted key-value pair\n",
    "# setdefault()\tReturns the value of the specified key. If the key does not exist: insert the key, with the specified value\n",
    "# update()\tUpdates the dictionary with the specified key-value pairs\n",
    "# values()\tReturns a list of all the values in the dictionary\n",
    "# len()\tReturns the number of key-value pairs in the dictionary\n",
    "# str()\tReturns a string representation of the dictionary\n",
    "# type()\tReturns the type of the passed variable. If passed variable is dictionary, then it would return a dictionary type.\n",
    "\n",
    "# dictionary comprehension\n",
    "squares = {x: x*x for x in range(6)}\n",
    "print(squares)\n",
    "\n",
    "# dictionary comprehension with if condition\n",
    "odd_squares = {x: x*x for x in range(11) if x%2 == 1}\n",
    "print(odd_squares)\n",
    "\n",
    "# dictionary comprehension with if else condition\n",
    "odd_squares = {x: x*x if x%2 == 1 else x for x in range(11)}\n",
    "print(odd_squares)\n",
    "\n",
    "# dictionary comprehension with nested if else condition\n",
    "odd_squares = {x: x*x if x%2 == 1 else x*2 for x in range(11)}\n",
    "print(odd_squares)\n",
    "\n",
    "# dictionary comprehension with nested loops\n",
    "mydict = {f\"Item {num}\": num for num in range(1, 11)}\n",
    "print(mydict)\n",
    "\n",
    "mydict = {f\"Item {num}\": num for num in range(1, 11) if num%2 == 0}\n",
    "print(mydict)\n",
    "\n"
   ]
  }
 ],
 "metadata": {
  "kernelspec": {
   "display_name": ".venv",
   "language": "python",
   "name": "python3"
  },
  "language_info": {
   "codemirror_mode": {
    "name": "ipython",
    "version": 3
   },
   "file_extension": ".py",
   "mimetype": "text/x-python",
   "name": "python",
   "nbconvert_exporter": "python",
   "pygments_lexer": "ipython3",
   "version": "3.13.1"
  }
 },
 "nbformat": 4,
 "nbformat_minor": 2
}
