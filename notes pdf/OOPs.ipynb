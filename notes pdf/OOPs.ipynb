{
 "cells": [
  {
   "cell_type": "code",
   "execution_count": 1,
   "id": "109626a2-c734-4983-8fe4-e4b17f69d87e",
   "metadata": {},
   "outputs": [],
   "source": [
    "# What is OOP? -----?\n",
    "# Why OOPs? ----?\n",
    "# Features of OOP - Inheritance, Encapsulation, Polymorphism, Abstraction\n",
    "# Components of OOP - Classes and Objects\n",
    "# How to create classes and objects? - Class Attributes and Instance Attributes\n",
    "# Methods? - Instance Methods, Class Methods, Static Methods\n",
    "# Inheritance - Benefits?\n",
    "# Types of Inheritance - Single, Multiple, Multilevel, Hierarchical\n",
    "# Encapsulation - Benefits\n",
    "# Access Modifiers - Public, Protected, Private\n",
    "# Polymorphism - benefits\n",
    "# Implementation - Method Overriding, Overloading, Duck Typing\n",
    "# Abstraction - Benefits\n",
    "# Abstract classes and methods\n",
    "# ABC classes - Abstract Base Class\n",
    "# Decorators in Python\n",
    "\n",
    "# Q - Create a class called BankAccount with methods deposit() and\n",
    "# withdraw() that manage the balance of a bank account. Create an\n",
    "# instance of BankAccount, deposit some money, withdraw some, and check\n",
    "# the balance.  \n",
    "# Try with private variable  -  balance\n",
    "\n",
    "\n",
    "#Abstraction\n",
    "# Q  - Create Animal class - create it as an abstract class and utilize the abstract method by Dog and Cat Classes which are deriving this abstract class\n",
    "\n",
    "# Inheritance \n",
    "# Q - Create a Animal Class having methods speak, walk - you have to inherit these behaviours and add your own specific behaviours belonging to that class"
   ]
  },
  {
   "cell_type": "code",
   "execution_count": 160,
   "id": "b8e9589f-5696-4c54-accc-d4d48fef312e",
   "metadata": {},
   "outputs": [],
   "source": [
    "from abc import ABC, abstractmethod\n",
    "\n",
    "class Animal(ABC):\n",
    "    @abstractmethod\n",
    "    def speak(self):\n",
    "        pass\n",
    "    @abstractmethod\n",
    "    def walk(self):\n",
    "        pass\n",
    "\n",
    "class Dog(Animal):\n",
    "    def speak(self):\n",
    "        return \"Barks\"\n",
    "    def walk(self):\n",
    "        return \"Dog runs\"\n",
    "\n",
    "class Cat(Animal):\n",
    "    def speak(self):\n",
    "        return \"Meows\"\n",
    "    def walk(self):\n",
    "        return \"Cat does cat-walk\""
   ]
  },
  {
   "cell_type": "code",
   "execution_count": 162,
   "id": "d0829ab3-6ab7-49b6-946b-1b04ab28b67e",
   "metadata": {},
   "outputs": [
    {
     "data": {
      "text/plain": [
       "'Barks'"
      ]
     },
     "execution_count": 162,
     "metadata": {},
     "output_type": "execute_result"
    }
   ],
   "source": [
    "d1=Dog()\n",
    "d1.speak()"
   ]
  },
  {
   "cell_type": "code",
   "execution_count": 135,
   "id": "b9f4b1d5-ad39-4f27-b1a6-c96a232028a8",
   "metadata": {},
   "outputs": [],
   "source": [
    "class Animal:\n",
    "    def __init__(self, name):\n",
    "        self.name=name\n",
    "    \n",
    "    \n",
    "    def speak(self):\n",
    "        print(\"Animal speaks\")\n",
    "\n",
    "    def walk(self):\n",
    "        print(\"Animal Walks\")\n",
    "\n",
    "        "
   ]
  },
  {
   "cell_type": "code",
   "execution_count": 157,
   "id": "c2f0218f-ea5b-4ed2-81c6-dab413735d2f",
   "metadata": {},
   "outputs": [],
   "source": [
    "class Tiger(Animal):\n",
    "    def __init__(self,name,stripe_color):\n",
    "        super().__init__(name)\n",
    "        self.stripe_color=stripe_color\n",
    "\n",
    "    def speak(self):\n",
    "        print(f\"{self.name} roars!\")\n",
    "\n",
    "    def walk(self):\n",
    "        print(f\"{self.name} has a royal walk\")\n",
    "        \n",
    "    def print_stripes(self):\n",
    "        print(f\"{self.name} has {self.stripe_color} stripes\")"
   ]
  },
  {
   "cell_type": "code",
   "execution_count": 158,
   "id": "87a40721-5b23-490d-9528-890261c8ecae",
   "metadata": {},
   "outputs": [
    {
     "name": "stdout",
     "output_type": "stream",
     "text": [
      "Animal speaks\n",
      "Animal Walks\n",
      "Sher has Orange with Black stripes\n",
      "Sher roars!\n",
      "Sher has a royal walk\n"
     ]
    }
   ],
   "source": [
    "A = Animal(\"Animal\")\n",
    "A.speak()\n",
    "A.walk()\n",
    "T=Tiger(\"Sher\",\"Orange with Black\")\n",
    "T.print_stripes()\n",
    "T.speak()\n",
    "T.walk()"
   ]
  },
  {
   "cell_type": "code",
   "execution_count": 130,
   "id": "a66ecc88-05fd-4991-b298-d632dd33380e",
   "metadata": {},
   "outputs": [],
   "source": [
    "class BankAccount:\n",
    "    def __init__(self,balance,name):\n",
    "        self.__balance=balance\n",
    "        self.name=name\n",
    "\n",
    "    def deposit(self,amount):\n",
    "        self.__balance=self.__balance+amount\n",
    "        print(\"Amount deposited and the new balance is\", self.__balance)\n",
    "        \n",
    "\n",
    "    def withdraw(self,withdrawal_amount):\n",
    "        if(self.__balance>=withdrawal_amount):\n",
    "            self.__balance=self.__balance-withdrawal_amount\n",
    "        print(\"The remaining balance is \",self.__balance)\n",
    "    "
   ]
  },
  {
   "cell_type": "code",
   "execution_count": 131,
   "id": "72b94281-4a44-422c-a1f8-7582b606919b",
   "metadata": {},
   "outputs": [],
   "source": [
    "b=BankAccount(1000,'XYZ')\n",
    "# b.deposit(500)\n",
    "# b.withdraw(300)"
   ]
  },
  {
   "cell_type": "code",
   "execution_count": 132,
   "id": "ebb7e3f9-cd07-412f-81ee-c6ba031f2f10",
   "metadata": {},
   "outputs": [
    {
     "name": "stdout",
     "output_type": "stream",
     "text": [
      "Amount deposited and the new balance is 1500\n"
     ]
    }
   ],
   "source": [
    "\n",
    "b.deposit(500)"
   ]
  },
  {
   "cell_type": "code",
   "execution_count": 133,
   "id": "5584f214-17df-42fb-a267-9caa696c5899",
   "metadata": {},
   "outputs": [
    {
     "name": "stdout",
     "output_type": "stream",
     "text": [
      "The remaining balance is  1200\n"
     ]
    }
   ],
   "source": [
    "b.withdraw(300)"
   ]
  },
  {
   "cell_type": "code",
   "execution_count": 134,
   "id": "40f5f0d2-31de-4237-acfa-911f77aa0091",
   "metadata": {},
   "outputs": [
    {
     "name": "stdout",
     "output_type": "stream",
     "text": [
      "The remaining balance is  1200\n"
     ]
    }
   ],
   "source": [
    "b.withdraw(10000)"
   ]
  },
  {
   "cell_type": "code",
   "execution_count": 4,
   "id": "48dd7ada-7de9-4b97-9195-ffc28c54f835",
   "metadata": {},
   "outputs": [],
   "source": [
    "class Car:\n",
    "    def __init__(self,make,model,name):\n",
    "        self.make=make\n",
    "        self.model=model\n",
    "        self.name=name\n",
    "\n",
    "    def introduce(self):\n",
    "        print(f\"The current object of class is having built in {self.make} with model {self.model} and belongs to {self.name}\")"
   ]
  },
  {
   "cell_type": "code",
   "execution_count": 5,
   "id": "c35ce061-2789-4e51-9965-9dc8348a251b",
   "metadata": {},
   "outputs": [],
   "source": [
    "myCar = Car(2022,\"Alto\",\"Maruti Suzuki\")"
   ]
  },
  {
   "cell_type": "code",
   "execution_count": 6,
   "id": "24801875-d03c-4963-9e00-c79c7976ab4a",
   "metadata": {},
   "outputs": [
    {
     "name": "stdout",
     "output_type": "stream",
     "text": [
      "The current object of class is having built in 2022 with model Alto and belongs to Maruti Suzuki\n"
     ]
    }
   ],
   "source": [
    "myCar.introduce()"
   ]
  },
  {
   "cell_type": "code",
   "execution_count": 16,
   "id": "1e8d035a-c298-448c-bf61-2f17d392f0aa",
   "metadata": {},
   "outputs": [],
   "source": [
    "class Animal:\n",
    "    species = \"Four-Leggged\"  # class attribute\n",
    "    def __init__(self,age,model,name):\n",
    "        self.age=age   # instance attribute\n",
    "        self.model=model\n",
    "        self.name=name\n",
    "\n",
    "    def introduce(self):   #Instance Method\n",
    "        print(f\"The current object of class is having age {self.age} {self.model} and belongs to {self.name}\")\n",
    "\n",
    "    @classmethod  #class method\n",
    "    def walk(cls):\n",
    "        print(f\"The {cls.species} is walking\")\n",
    "\n",
    "    def speak(**kwargs):\n",
    "        print(\"Animal speaks\")"
   ]
  },
  {
   "cell_type": "code",
   "execution_count": 8,
   "id": "a91a5b87-fec1-44f8-ad2f-15dfcb6971aa",
   "metadata": {},
   "outputs": [],
   "source": [
    "myAnimal = Animal(4,'Labrador','Dog')"
   ]
  },
  {
   "cell_type": "code",
   "execution_count": 9,
   "id": "9f9015dd-2d3e-4cba-a49f-4a70d7b9bac4",
   "metadata": {},
   "outputs": [
    {
     "name": "stdout",
     "output_type": "stream",
     "text": [
      "The current object of class is having built in 4 with model Labrador and belongs to Dog\n"
     ]
    }
   ],
   "source": [
    "myAnimal.introduce()"
   ]
  },
  {
   "cell_type": "code",
   "execution_count": 15,
   "id": "3b430a9f-3903-46f5-8a5b-b77a3da7cd49",
   "metadata": {},
   "outputs": [
    {
     "name": "stdout",
     "output_type": "stream",
     "text": [
      "The Four-Leggged is walking\n"
     ]
    }
   ],
   "source": [
    "Animal.walk()"
   ]
  },
  {
   "cell_type": "code",
   "execution_count": 17,
   "id": "d3e0d85d-8fa3-4006-a707-476fca3b9778",
   "metadata": {},
   "outputs": [
    {
     "name": "stdout",
     "output_type": "stream",
     "text": [
      "Animal speaks\n"
     ]
    }
   ],
   "source": [
    "Animal.speak()"
   ]
  },
  {
   "cell_type": "code",
   "execution_count": 24,
   "id": "99569997-20b6-45bc-8cc9-bffca40723d9",
   "metadata": {},
   "outputs": [],
   "source": [
    "class Dog(Animal):\n",
    "    def __init__(self,age,model,name,sound):\n",
    "        self.age=age   # instance attribute\n",
    "        self.model=model\n",
    "        self.name=name\n",
    "        self.sound=sound\n",
    "\n",
    "    def speak(self):\n",
    "        print(f\"{self.name} {self.sound}\")"
   ]
  },
  {
   "cell_type": "code",
   "execution_count": 27,
   "id": "ea464919-6e16-4048-b4dc-39a236f74e93",
   "metadata": {},
   "outputs": [],
   "source": [
    "d1 = Dog(4,'Labrador','Dog','barks')"
   ]
  },
  {
   "cell_type": "code",
   "execution_count": 28,
   "id": "7004b7eb-55cc-42a0-b31d-0ccb00195a82",
   "metadata": {},
   "outputs": [
    {
     "name": "stdout",
     "output_type": "stream",
     "text": [
      "Dog barks\n"
     ]
    }
   ],
   "source": [
    "d1.speak()"
   ]
  },
  {
   "cell_type": "code",
   "execution_count": 40,
   "id": "4aaf01ac-2d80-473a-923f-0719b76898bc",
   "metadata": {},
   "outputs": [],
   "source": [
    "class Employee:\n",
    "    def __init__(self,name,salary,id):\n",
    "        self.name=name\n",
    "        self.__salary=salary\n",
    "        self._id = id\n",
    "\n",
    "    def display_employee_info(self):\n",
    "        print(f\"{self.name} with salary {self.salary}\")\n",
    "\n",
    "    "
   ]
  },
  {
   "cell_type": "code",
   "execution_count": 41,
   "id": "69ec4351-8325-44fa-9fb0-9f1d655b7b00",
   "metadata": {},
   "outputs": [],
   "source": [
    "e1 = Employee(\"Gaurav\",25000,1001)"
   ]
  },
  {
   "cell_type": "code",
   "execution_count": 33,
   "id": "7e3b72f8-8adc-4f46-baff-81d2603eed20",
   "metadata": {},
   "outputs": [
    {
     "data": {
      "text/plain": [
       "<function id(obj, /)>"
      ]
     },
     "execution_count": 33,
     "metadata": {},
     "output_type": "execute_result"
    }
   ],
   "source": [
    "e1._id"
   ]
  },
  {
   "cell_type": "code",
   "execution_count": 58,
   "id": "4174d026-399e-4195-95c2-76a5c07edb09",
   "metadata": {},
   "outputs": [],
   "source": [
    "class Individual(Employee):\n",
    "    def __init__(self,salary,name):\n",
    "        self.__salary=salary\n",
    "        self.name=name\n",
    "\n",
    "    def get_individual_id(self,super):\n",
    "        print(super._id)\n",
    "        print(super.__salary)\n",
    "        "
   ]
  },
  {
   "cell_type": "code",
   "execution_count": 59,
   "id": "9b8f5d36-b6e7-4ace-814e-aae3b553d5d1",
   "metadata": {},
   "outputs": [],
   "source": [
    "G = Individual(20000,'XYZ')"
   ]
  },
  {
   "cell_type": "code",
   "execution_count": 61,
   "id": "ccdb89d9-ac8e-43cd-a12d-4ab93aac1bf0",
   "metadata": {},
   "outputs": [],
   "source": [
    "#Polymorphism - Method Overloading - define functions with different arguments\n",
    "\n",
    "# Ideally Python doesn't support method overloading"
   ]
  },
  {
   "cell_type": "code",
   "execution_count": 69,
   "id": "4231377f-7357-4d91-a410-57e07db8b9f4",
   "metadata": {},
   "outputs": [
    {
     "name": "stdout",
     "output_type": "stream",
     "text": [
      "1\n",
      "6\n",
      "3\n",
      "12\n"
     ]
    }
   ],
   "source": [
    "class MathOperations:\n",
    "    def add(self,a,b=0,c=0):\n",
    "        return a+b+c\n",
    "\n",
    "class MoreOperations:\n",
    "    def add(self,*args):\n",
    "        return sum(args)\n",
    "\n",
    "math=MathOperations()\n",
    "more=MoreOperations()\n",
    "\n",
    "print(math.add(1))\n",
    "print(math.add(1,2,3))\n",
    "print(more.add(3))\n",
    "print(more.add(1,2,4,5))\n"
   ]
  },
  {
   "cell_type": "code",
   "execution_count": 70,
   "id": "cd3d6dc3-de74-4ec8-a0ef-f4c482d3ba6f",
   "metadata": {},
   "outputs": [],
   "source": [
    "# Abstractions - achieved in Python using ABC classes \n",
    "# ABC - Abstract Base Classes"
   ]
  },
  {
   "cell_type": "code",
   "execution_count": 71,
   "id": "00904ce6-9a09-482f-a3bb-ca009827e806",
   "metadata": {},
   "outputs": [],
   "source": [
    "from abc import ABC, abstractmethod\n",
    "\n",
    "class Animal(ABC):\n",
    "    @abstractmethod\n",
    "    def sound(self):\n",
    "        pass\n",
    "\n",
    "class Dog(Animal):\n",
    "    def sound(self):\n",
    "        print(\"Dog Barks\")\n",
    "\n",
    "class Cat(Animal):\n",
    "    def sound(self):\n",
    "        print(\"Cat meows\")"
   ]
  },
  {
   "cell_type": "code",
   "execution_count": 72,
   "id": "710987d6-4f8e-49b3-9089-8a36bcfd39a8",
   "metadata": {},
   "outputs": [],
   "source": [
    "d1=Dog()\n",
    "c1=Cat()"
   ]
  },
  {
   "cell_type": "code",
   "execution_count": 73,
   "id": "f7889e83-846a-4955-b26c-e279e1270c8e",
   "metadata": {},
   "outputs": [
    {
     "name": "stdout",
     "output_type": "stream",
     "text": [
      "Dog Barks\n"
     ]
    }
   ],
   "source": [
    "d1.sound()"
   ]
  },
  {
   "cell_type": "code",
   "execution_count": 74,
   "id": "12447737-d12c-4602-a85e-107ba8e02362",
   "metadata": {},
   "outputs": [
    {
     "name": "stdout",
     "output_type": "stream",
     "text": [
      "Cat meows\n"
     ]
    }
   ],
   "source": [
    "c1.sound()"
   ]
  },
  {
   "cell_type": "code",
   "execution_count": 75,
   "id": "a348c174-0e4d-44b9-9781-1a3df73f9ee8",
   "metadata": {},
   "outputs": [],
   "source": [
    "# Duck Typing\n"
   ]
  },
  {
   "cell_type": "code",
   "execution_count": 80,
   "id": "1f437126-4b4e-45d3-8832-9ec53a5e3044",
   "metadata": {},
   "outputs": [],
   "source": [
    "\n",
    "\n",
    "class Dog:\n",
    "    def sound(self):\n",
    "        print(\"Dog Barks\")\n",
    "\n",
    "class Cat:\n",
    "    def sound(self):\n",
    "        print(\"Cat meows\")\n",
    "\n",
    "def animal_sound(animal):\n",
    "    animal.sound()"
   ]
  },
  {
   "cell_type": "code",
   "execution_count": 81,
   "id": "6a152c7c-0359-4012-af3c-45dd27bd0042",
   "metadata": {},
   "outputs": [],
   "source": [
    "dog = Dog()\n",
    "cat = Cat()"
   ]
  },
  {
   "cell_type": "code",
   "execution_count": 82,
   "id": "bf392ffe-a0c8-4824-9a03-00090e3cd0f1",
   "metadata": {},
   "outputs": [
    {
     "name": "stdout",
     "output_type": "stream",
     "text": [
      "Cat meows\n"
     ]
    }
   ],
   "source": [
    "animal_sound(cat)"
   ]
  },
  {
   "cell_type": "code",
   "execution_count": 84,
   "id": "003d4441-eddc-42a2-a39c-80d66b34bbb9",
   "metadata": {},
   "outputs": [],
   "source": [
    "# Decorators - Modifies/extends the functionality of an existing function without actually changing its code"
   ]
  },
  {
   "cell_type": "code",
   "execution_count": 190,
   "id": "65f052e7-a3a9-4148-8663-92ff54271751",
   "metadata": {},
   "outputs": [],
   "source": [
    "def my_decorator(func):\n",
    "    def wrapper(a,b):\n",
    "        print(\"Before\")\n",
    "        target=func(a,b)\n",
    "        print(\"The result of sum is\", target)\n",
    "        print(\"Extending its functionality\")\n",
    "    return wrapper\n",
    "\n",
    "\n",
    "# @my_decorator\n",
    "# def hello():\n",
    "#     print(\"Hello!\")\n",
    "    \n",
    "@my_decorator\n",
    "def sum_two(a,b):\n",
    "    return a+b\n",
    "\n",
    "@my_decorator\n",
    "def subtraction_two(a,b):\n",
    "    return abs(a-b)\n",
    "\n"
   ]
  },
  {
   "cell_type": "code",
   "execution_count": 191,
   "id": "64c8fcb6-c023-4a85-a81d-4b4de8f4b809",
   "metadata": {},
   "outputs": [
    {
     "name": "stdout",
     "output_type": "stream",
     "text": [
      "Before\n",
      "The result of sum is 1\n",
      "Extending its functionality\n"
     ]
    }
   ],
   "source": [
    "target=subtraction_two(4,5)\n"
   ]
  },
  {
   "cell_type": "code",
   "execution_count": null,
   "id": "615cbb62-56df-41a0-8e0f-4c110d606e8b",
   "metadata": {},
   "outputs": [],
   "source": []
  }
 ],
 "metadata": {
  "kernelspec": {
   "display_name": "Python 3 (ipykernel)",
   "language": "python",
   "name": "python3"
  },
  "language_info": {
   "codemirror_mode": {
    "name": "ipython",
    "version": 3
   },
   "file_extension": ".py",
   "mimetype": "text/x-python",
   "name": "python",
   "nbconvert_exporter": "python",
   "pygments_lexer": "ipython3",
   "version": "3.11.4"
  }
 },
 "nbformat": 4,
 "nbformat_minor": 5
}
